{
 "cells": [
  {
   "cell_type": "code",
   "execution_count": 9,
   "id": "initial_id",
   "metadata": {
    "collapsed": true,
    "ExecuteTime": {
     "end_time": "2024-05-17T08:08:43.366472Z",
     "start_time": "2024-05-17T08:08:43.312148Z"
    }
   },
   "outputs": [],
   "source": [
    "from pyspark.sql import SparkSession\n",
    "from pyspark.sql.functions import col, lit, when, isnan, count\n",
    "from src.utils.s3_manager import S3Manager\n",
    "import seaborn as sns\n",
    "import matplotlib.pyplot as plt\n",
    "from wordcloud import WordCloud\n",
    "import os \n",
    "import nltk\n"
   ]
  },
  {
   "cell_type": "code",
   "execution_count": 2,
   "outputs": [],
   "source": [
    "data_dir = \"/Users/ilan/big-data-airflow-project/data\""
   ],
   "metadata": {
    "collapsed": false,
    "ExecuteTime": {
     "end_time": "2024-05-17T08:04:24.385376Z",
     "start_time": "2024-05-17T08:04:24.364379Z"
    }
   },
   "id": "3026c544229bc24"
  },
  {
   "cell_type": "code",
   "execution_count": 3,
   "outputs": [
    {
     "name": "stderr",
     "output_type": "stream",
     "text": [
      "24/05/17 10:04:26 WARN Utils: Your hostname, Ordinateur-portable-de-Ilan.local resolves to a loopback address: 127.0.0.1; using 10.3.155.210 instead (on interface en0)\n",
      "24/05/17 10:04:26 WARN Utils: Set SPARK_LOCAL_IP if you need to bind to another address\n",
      "Setting default log level to \"WARN\".\n",
      "To adjust logging level use sc.setLogLevel(newLevel). For SparkR, use setLogLevel(newLevel).\n",
      "24/05/17 10:04:27 WARN NativeCodeLoader: Unable to load native-hadoop library for your platform... using builtin-java classes where applicable\n"
     ]
    }
   ],
   "source": [
    "spark = SparkSession.builder \\\n",
    "    .appName(\"EDA with Spark\") \\\n",
    "    .getOrCreate()"
   ],
   "metadata": {
    "collapsed": false,
    "ExecuteTime": {
     "end_time": "2024-05-17T08:04:29.279557Z",
     "start_time": "2024-05-17T08:04:24.376558Z"
    }
   },
   "id": "8ba8718f5623d0f6"
  },
  {
   "cell_type": "code",
   "execution_count": 4,
   "outputs": [
    {
     "name": "stderr",
     "output_type": "stream",
     "text": [
      "                                                                                \r"
     ]
    }
   ],
   "source": [
    "df = spark.read.parquet(data_dir+\"/allocine_movies.parquet\", header=True, inferSchema=True)"
   ],
   "metadata": {
    "collapsed": false,
    "ExecuteTime": {
     "end_time": "2024-05-17T08:04:34.824199Z",
     "start_time": "2024-05-17T08:04:30.591944Z"
    }
   },
   "id": "907777847cac46be"
  },
  {
   "cell_type": "code",
   "execution_count": 5,
   "outputs": [
    {
     "name": "stderr",
     "output_type": "stream",
     "text": [
      "                                                                                \r"
     ]
    },
    {
     "name": "stdout",
     "output_type": "stream",
     "text": [
      "+--------------------+--------+------+---------------+------------------+--------------------+------------+----------------+--------------------+\n",
      "|               Title|Duration| Genre|   Release Date|          Director|              Actors|Press Rating|Spectator Rating|            Synopsis|\n",
      "+--------------------+--------+------+---------------+------------------+--------------------+------------+----------------+--------------------+\n",
      "|The Dark Knight, ...|2h 32min|Action|            N/A| Christopher Nolan|Christian Bale, P...|         4,0|             4,5|Batman entreprend...|\n",
      "|           Gladiator|2h 35min|Action|            N/A|      Ridley Scott|Russell Crowe, Jo...|         4,3|             4,5|Le général romain...|\n",
      "|Spider-Man : Acro...|2h 21min|Action|            N/A|Joaquim Dos Santos|Stéphane Bak, Sha...|         4,1|             4,4|Après avoir retro...|\n",
      "|Spider-Man : New ...|1h 57min|Action|            N/A|   Bob Persichetti|        Jake Johnson|         4,2|             4,4|SPIDER-MAN : NEW ...|\n",
      "|Indiana Jones et ...|2h 07min|Action|            N/A|  Steven Spielberg|Harrison Ford, Se...|         4,4|             4,4|L'archéologue ave...|\n",
      "|              Matrix|2h 15min|Action|            N/A|    Lana Wachowski|Keanu Reeves, Lau...|         3,4|             4,4|Programmeur anony...|\n",
      "|              Ip Man|1h 45min|Action|            N/A|        Wilson Yip|Donnie Yen, Simon...|         4,4|              --|Film biographique...|\n",
      "|Les Aventuriers d...|1h 56min|Action|            N/A|  Steven Spielberg|Karen Allen, Paul...|         4,6|             4,4|1936. L'aventurie...|\n",
      "|   Top Gun: Maverick|2h 11min|Action|            N/A|   Joseph Kosinski|Tom Cruise, Miles...|         3,7|             4,3|\"Après avoir été ...|\n",
      "|                Léon|1h 43min|Action|   26 juin 1996|        Luc Besson|Jean Reno, Gary O...|         2,0|             4,3|\"Un tueur à gages...|\n",
      "|Avengers: Infinit...|2h 36min|Action|            N/A|         Joe Russo|Robert Downey Jr....|         3,4|             4,3|Les Avengers et l...|\n",
      "|The Dark Knight R...|2h 44min|Action|            N/A| Christopher Nolan|Christian Bale, G...|         3,6|             4,3|Il y a huit ans, ...|\n",
      "|   Baby Cart la saga|    NULL|Action|            N/A|      Kenji Misumi| Tomisaburo Wakayama|         4,5|             4,3|L'intégrale de la...|\n",
      "|                Heat|2h 50min|Action|   21 mars 2018|      Michael Mann|Al Pacino, Robert...|         3,2|             4,3|À travers l'affro...|\n",
      "|             Warrior|2h 20min|Action|            N/A|    Gavin O'Connor|Joel Edgerton, Je...|         3,6|             4,3|Pour remporter un...|\n",
      "|Batman: The Dark ...|1h 16min|Action|            N/A|         Jay Oliva|Peter Weller, Ari...|         4,3|              --|Batman, s'activan...|\n",
      "|   L'Enfer est à lui|1h 54min|Action|22 octobre 2003|       Raoul Walsh|James Cagney, Vir...|         4,3|              --|Cody Jarrett et s...|\n",
      "|  Memories of Murder|2h 10min|Action| 5 juillet 2017|      Bong Joon Ho|Song Kang-Ho, Kim...|         4,4|             4,3|En 1986, dans la ...|\n",
      "|Inglourious Basterds|2h 33min|Action|            N/A| Quentin Tarantino|Brad Pitt, Mélani...|         3,7|             4,3|Dans la France oc...|\n",
      "|Batman contre le ...|1h 16min|Action|            N/A|     Eric Radomski|Kevin Conroy, Dan...|         4,3|              --|Un parrain de la ...|\n",
      "+--------------------+--------+------+---------------+------------------+--------------------+------------+----------------+--------------------+\n"
     ]
    }
   ],
   "source": [
    "df.show()"
   ],
   "metadata": {
    "collapsed": false,
    "ExecuteTime": {
     "end_time": "2024-05-17T08:04:40.084097Z",
     "start_time": "2024-05-17T08:04:36.588030Z"
    }
   },
   "id": "fb85b0e29186c4e1"
  },
  {
   "cell_type": "code",
   "execution_count": 6,
   "outputs": [
    {
     "name": "stdout",
     "output_type": "stream",
     "text": [
      "The shape of the allocine dataset is  (3379, 9)\n"
     ]
    }
   ],
   "source": [
    "print(\"The shape of the allocine dataset is \", (df.count(), len(df.columns)))"
   ],
   "metadata": {
    "collapsed": false,
    "ExecuteTime": {
     "end_time": "2024-05-17T08:04:42.850684Z",
     "start_time": "2024-05-17T08:04:42.226225Z"
    }
   },
   "id": "d58f5b54febd4655"
  },
  {
   "cell_type": "code",
   "execution_count": 7,
   "outputs": [
    {
     "name": "stderr",
     "output_type": "stream",
     "text": [
      "24/05/17 10:06:35 WARN SparkStringUtils: Truncated the string representation of a plan since it was too large. This behavior can be adjusted by setting 'spark.sql.debug.maxToStringFields'.\n",
      "[Stage 5:>                                                          (0 + 1) / 1]\r"
     ]
    },
    {
     "name": "stdout",
     "output_type": "stream",
     "text": [
      "+-------+--------------------+--------+-------+------------+--------------+--------------------+------------+----------------+--------------------+\n",
      "|summary|               Title|Duration|  Genre|Release Date|      Director|              Actors|Press Rating|Spectator Rating|            Synopsis|\n",
      "+-------+--------------------+--------+-------+------------+--------------+--------------------+------------+----------------+--------------------+\n",
      "|  count|                3379|    3378|   3379|        3379|          3376|                3372|        3374|            3379|                3376|\n",
      "|   mean|               796.0|    NULL|   NULL|        NULL|          NULL|                NULL|        NULL|            NULL|                NULL|\n",
      "| stddev|   874.0533164515766|    NULL|   NULL|        NULL|          NULL|                NULL|        NULL|            NULL|                NULL|\n",
      "|    min|                 '71|0h 06min| Action| 1 août 2001|  Costa-Gavras| Anémone, Josiane...|         1,3|              --|\"\"\"Aviator\"\" couv...|\n",
      "|    max|Élémentaire, mon ...|7h 30min|Western|         N/A|Élie Chouraqui|                  []|         5,0|             N/A|Évocation du règn...|\n",
      "+-------+--------------------+--------+-------+------------+--------------+--------------------+------------+----------------+--------------------+\n"
     ]
    },
    {
     "name": "stderr",
     "output_type": "stream",
     "text": [
      "                                                                                \r"
     ]
    }
   ],
   "source": [
    "df.describe().show()"
   ],
   "metadata": {
    "collapsed": false,
    "ExecuteTime": {
     "end_time": "2024-05-17T08:06:38.518285Z",
     "start_time": "2024-05-17T08:06:35.117214Z"
    }
   },
   "id": "e3efb67496ecd007"
  },
  {
   "cell_type": "markdown",
   "source": [
    "# Renaming columns to match the netflix dataset"
   ],
   "metadata": {
    "collapsed": false
   },
   "id": "a95feb29ab110336"
  },
  {
   "cell_type": "code",
   "execution_count": 11,
   "outputs": [],
   "source": [
    "df = df.withColumnRenamed(\"Title\", \"title\")\n",
    "df = df.withColumnRenamed(\"Duration\", \"duration\")\n",
    "df = df.withColumnRenamed(\"Synopsis\", \"description\")\n",
    "df = df.withColumnRenamed(\"Release Date\", \"release_year\")\n"
   ],
   "metadata": {
    "collapsed": false,
    "ExecuteTime": {
     "end_time": "2024-05-17T08:13:10.555621Z",
     "start_time": "2024-05-17T08:13:10.522750Z"
    }
   },
   "id": "438622126166538c"
  },
  {
   "cell_type": "markdown",
   "source": [
    "# Dealing with missing values"
   ],
   "metadata": {
    "collapsed": false
   },
   "id": "3457d757a51107c1"
  },
  {
   "cell_type": "code",
   "execution_count": 12,
   "outputs": [
    {
     "name": "stdout",
     "output_type": "stream",
     "text": [
      "+-----+--------+-----+------------+--------+------+------------+----------------+-----------+\n",
      "|title|duration|Genre|release_year|Director|Actors|Press Rating|Spectator Rating|description|\n",
      "+-----+--------+-----+------------+--------+------+------------+----------------+-----------+\n",
      "|    0|       1|    0|           0|       3|     7|           5|               0|          3|\n",
      "+-----+--------+-----+------------+--------+------+------------+----------------+-----------+\n"
     ]
    }
   ],
   "source": [
    "missing_values = df.select([count(when(col(c).isNull() | isnan(c), c)).alias(c) for c in df.columns])\n",
    "missing_values.show()"
   ],
   "metadata": {
    "collapsed": false,
    "ExecuteTime": {
     "end_time": "2024-05-17T08:13:13.849357Z",
     "start_time": "2024-05-17T08:13:13.034008Z"
    }
   },
   "id": "6d681e6ad9e4335b"
  },
  {
   "cell_type": "code",
   "execution_count": null,
   "outputs": [],
   "source": [],
   "metadata": {
    "collapsed": false
   },
   "id": "7db8c00db5187eb"
  }
 ],
 "metadata": {
  "kernelspec": {
   "display_name": "Python 3",
   "language": "python",
   "name": "python3"
  },
  "language_info": {
   "codemirror_mode": {
    "name": "ipython",
    "version": 2
   },
   "file_extension": ".py",
   "mimetype": "text/x-python",
   "name": "python",
   "nbconvert_exporter": "python",
   "pygments_lexer": "ipython2",
   "version": "2.7.6"
  }
 },
 "nbformat": 4,
 "nbformat_minor": 5
}
