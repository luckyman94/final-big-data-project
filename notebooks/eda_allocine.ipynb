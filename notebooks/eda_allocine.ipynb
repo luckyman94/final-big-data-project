{
 "cells": [
  {
   "cell_type": "code",
   "execution_count": 73,
   "id": "initial_id",
   "metadata": {
    "collapsed": true,
    "ExecuteTime": {
     "end_time": "2024-05-19T11:20:42.724787Z",
     "start_time": "2024-05-19T11:20:42.712099Z"
    }
   },
   "outputs": [],
   "source": [
    "from pyspark.sql import SparkSession\n",
    "from pyspark.sql.functions import col, lit, when, isnan, count, udf, round as spark_round\n",
    "from pyspark.sql.types import StringType, FloatType\n",
    "\n",
    "\n",
    "from src.utils.s3_manager import S3Manager\n",
    "import seaborn as sns\n",
    "import matplotlib.pyplot as plt\n",
    "from wordcloud import WordCloud\n",
    "import os \n",
    "import nltk\n"
   ]
  },
  {
   "cell_type": "code",
   "execution_count": 77,
   "outputs": [],
   "source": [
    "data_dir = \"/Users/ilan/big-data-airflow-project/data\""
   ],
   "metadata": {
    "collapsed": false,
    "ExecuteTime": {
     "end_time": "2024-05-19T11:22:12.241308Z",
     "start_time": "2024-05-19T11:22:12.232892Z"
    }
   },
   "id": "3026c544229bc24"
  },
  {
   "cell_type": "code",
   "execution_count": 78,
   "outputs": [],
   "source": [
    "spark = SparkSession.builder \\\n",
    "    .appName(\"EDA with Spark\") \\\n",
    "    .getOrCreate()"
   ],
   "metadata": {
    "collapsed": false,
    "ExecuteTime": {
     "end_time": "2024-05-19T11:22:12.759101Z",
     "start_time": "2024-05-19T11:22:12.750070Z"
    }
   },
   "id": "8ba8718f5623d0f6"
  },
  {
   "cell_type": "code",
   "execution_count": 118,
   "outputs": [],
   "source": [
    "df = spark.read.parquet(data_dir+\"/allocine_movies.parquet\", header=True, inferSchema=True)"
   ],
   "metadata": {
    "collapsed": false,
    "ExecuteTime": {
     "end_time": "2024-05-19T12:55:59.397390Z",
     "start_time": "2024-05-19T12:55:59.307359Z"
    }
   },
   "id": "907777847cac46be"
  },
  {
   "cell_type": "code",
   "execution_count": 80,
   "outputs": [
    {
     "name": "stdout",
     "output_type": "stream",
     "text": [
      "root\n",
      " |-- Title: string (nullable = true)\n",
      " |-- Duration: string (nullable = true)\n",
      " |-- Genre: string (nullable = true)\n",
      " |-- Release Date: string (nullable = true)\n",
      " |-- Director: string (nullable = true)\n",
      " |-- Actors: string (nullable = true)\n",
      " |-- Press Rating: string (nullable = true)\n",
      " |-- Spectator Rating: string (nullable = true)\n",
      " |-- Synopsis: string (nullable = true)\n"
     ]
    }
   ],
   "source": [
    "df.printSchema()"
   ],
   "metadata": {
    "collapsed": false,
    "ExecuteTime": {
     "end_time": "2024-05-19T11:22:12.970949Z",
     "start_time": "2024-05-19T11:22:12.956030Z"
    }
   },
   "id": "b437f5d395b49338"
  },
  {
   "cell_type": "code",
   "execution_count": 81,
   "outputs": [
    {
     "name": "stdout",
     "output_type": "stream",
     "text": [
      "+--------------------+--------+------+---------------+------------------+--------------------+------------+----------------+--------------------+\n",
      "|               Title|Duration| Genre|   Release Date|          Director|              Actors|Press Rating|Spectator Rating|            Synopsis|\n",
      "+--------------------+--------+------+---------------+------------------+--------------------+------------+----------------+--------------------+\n",
      "|The Dark Knight, ...|2h 32min|Action|            N/A| Christopher Nolan|Christian Bale, P...|         4,0|             4,5|Batman entreprend...|\n",
      "|           Gladiator|2h 35min|Action|            N/A|      Ridley Scott|Russell Crowe, Jo...|         4,3|             4,5|Le général romain...|\n",
      "|Spider-Man : Acro...|2h 21min|Action|            N/A|Joaquim Dos Santos|Stéphane Bak, Sha...|         4,1|             4,4|Après avoir retro...|\n",
      "|Spider-Man : New ...|1h 57min|Action|            N/A|   Bob Persichetti|        Jake Johnson|         4,2|             4,4|SPIDER-MAN : NEW ...|\n",
      "|Indiana Jones et ...|2h 07min|Action|            N/A|  Steven Spielberg|Harrison Ford, Se...|         4,4|             4,4|L'archéologue ave...|\n",
      "|              Matrix|2h 15min|Action|            N/A|    Lana Wachowski|Keanu Reeves, Lau...|         3,4|             4,4|Programmeur anony...|\n",
      "|              Ip Man|1h 45min|Action|            N/A|        Wilson Yip|Donnie Yen, Simon...|         4,4|              --|Film biographique...|\n",
      "|Les Aventuriers d...|1h 56min|Action|            N/A|  Steven Spielberg|Karen Allen, Paul...|         4,6|             4,4|1936. L'aventurie...|\n",
      "|   Top Gun: Maverick|2h 11min|Action|            N/A|   Joseph Kosinski|Tom Cruise, Miles...|         3,7|             4,3|\"Après avoir été ...|\n",
      "|                Léon|1h 43min|Action|   26 juin 1996|        Luc Besson|Jean Reno, Gary O...|         2,0|             4,3|\"Un tueur à gages...|\n",
      "|Avengers: Infinit...|2h 36min|Action|            N/A|         Joe Russo|Robert Downey Jr....|         3,4|             4,3|Les Avengers et l...|\n",
      "|The Dark Knight R...|2h 44min|Action|            N/A| Christopher Nolan|Christian Bale, G...|         3,6|             4,3|Il y a huit ans, ...|\n",
      "|   Baby Cart la saga|    NULL|Action|            N/A|      Kenji Misumi| Tomisaburo Wakayama|         4,5|             4,3|L'intégrale de la...|\n",
      "|                Heat|2h 50min|Action|   21 mars 2018|      Michael Mann|Al Pacino, Robert...|         3,2|             4,3|À travers l'affro...|\n",
      "|             Warrior|2h 20min|Action|            N/A|    Gavin O'Connor|Joel Edgerton, Je...|         3,6|             4,3|Pour remporter un...|\n",
      "|Batman: The Dark ...|1h 16min|Action|            N/A|         Jay Oliva|Peter Weller, Ari...|         4,3|              --|Batman, s'activan...|\n",
      "|   L'Enfer est à lui|1h 54min|Action|22 octobre 2003|       Raoul Walsh|James Cagney, Vir...|         4,3|              --|Cody Jarrett et s...|\n",
      "|  Memories of Murder|2h 10min|Action| 5 juillet 2017|      Bong Joon Ho|Song Kang-Ho, Kim...|         4,4|             4,3|En 1986, dans la ...|\n",
      "|Inglourious Basterds|2h 33min|Action|            N/A| Quentin Tarantino|Brad Pitt, Mélani...|         3,7|             4,3|Dans la France oc...|\n",
      "|Batman contre le ...|1h 16min|Action|            N/A|     Eric Radomski|Kevin Conroy, Dan...|         4,3|              --|Un parrain de la ...|\n",
      "+--------------------+--------+------+---------------+------------------+--------------------+------------+----------------+--------------------+\n"
     ]
    }
   ],
   "source": [
    "df.show()"
   ],
   "metadata": {
    "collapsed": false,
    "ExecuteTime": {
     "end_time": "2024-05-19T11:22:13.145187Z",
     "start_time": "2024-05-19T11:22:13.034377Z"
    }
   },
   "id": "fb85b0e29186c4e1"
  },
  {
   "cell_type": "code",
   "execution_count": 82,
   "outputs": [
    {
     "name": "stdout",
     "output_type": "stream",
     "text": [
      "The shape of the allocine dataset is  (3379, 9)\n"
     ]
    }
   ],
   "source": [
    "print(\"The shape of the allocine dataset is \", (df.count(), len(df.columns)))"
   ],
   "metadata": {
    "collapsed": false,
    "ExecuteTime": {
     "end_time": "2024-05-19T11:22:13.427746Z",
     "start_time": "2024-05-19T11:22:13.152518Z"
    }
   },
   "id": "d58f5b54febd4655"
  },
  {
   "cell_type": "code",
   "execution_count": 83,
   "outputs": [
    {
     "name": "stdout",
     "output_type": "stream",
     "text": [
      "+-------+--------------------+--------+-------+------------+--------------+--------------------+------------+----------------+--------------------+\n",
      "|summary|               Title|Duration|  Genre|Release Date|      Director|              Actors|Press Rating|Spectator Rating|            Synopsis|\n",
      "+-------+--------------------+--------+-------+------------+--------------+--------------------+------------+----------------+--------------------+\n",
      "|  count|                3379|    3378|   3379|        3379|          3376|                3372|        3374|            3379|                3376|\n",
      "|   mean|               796.0|    NULL|   NULL|        NULL|          NULL|                NULL|        NULL|            NULL|                NULL|\n",
      "| stddev|   874.0533164515766|    NULL|   NULL|        NULL|          NULL|                NULL|        NULL|            NULL|                NULL|\n",
      "|    min|                 '71|0h 06min| Action| 1 août 2001|  Costa-Gavras| Anémone, Josiane...|         1,3|              --|\"\"\"Aviator\"\" couv...|\n",
      "|    max|Élémentaire, mon ...|7h 30min|Western|         N/A|Élie Chouraqui|                  []|         5,0|             N/A|Évocation du règn...|\n",
      "+-------+--------------------+--------+-------+------------+--------------+--------------------+------------+----------------+--------------------+\n"
     ]
    }
   ],
   "source": [
    "df.describe().show()"
   ],
   "metadata": {
    "collapsed": false,
    "ExecuteTime": {
     "end_time": "2024-05-19T11:22:14.414549Z",
     "start_time": "2024-05-19T11:22:13.273750Z"
    }
   },
   "id": "e3efb67496ecd007"
  },
  {
   "cell_type": "code",
   "execution_count": 84,
   "outputs": [],
   "source": [
    "df = df.drop(\"Release Date\", \"Director\")"
   ],
   "metadata": {
    "collapsed": false,
    "ExecuteTime": {
     "end_time": "2024-05-19T11:22:14.414982Z",
     "start_time": "2024-05-19T11:22:14.054649Z"
    }
   },
   "id": "55b7bfd30b2b0206"
  },
  {
   "cell_type": "markdown",
   "source": [
    "# Renaming columns to match the netflix dataset"
   ],
   "metadata": {
    "collapsed": false
   },
   "id": "a95feb29ab110336"
  },
  {
   "cell_type": "code",
   "execution_count": 85,
   "outputs": [],
   "source": [
    "df = df.withColumnRenamed(\"Duration\", \"Runtime\")\n",
    "df = df.withColumnRenamed(\"Synopsis\", \"Summary\")"
   ],
   "metadata": {
    "collapsed": false,
    "ExecuteTime": {
     "end_time": "2024-05-19T11:22:14.415154Z",
     "start_time": "2024-05-19T11:22:14.072565Z"
    }
   },
   "id": "438622126166538c"
  },
  {
   "cell_type": "markdown",
   "source": [
    "# Dealing with missing values"
   ],
   "metadata": {
    "collapsed": false
   },
   "id": "3457d757a51107c1"
  },
  {
   "cell_type": "code",
   "execution_count": 86,
   "outputs": [
    {
     "name": "stdout",
     "output_type": "stream",
     "text": [
      "+-----+-------+-----+------+------------+----------------+-------+\n",
      "|Title|Runtime|Genre|Actors|Press Rating|Spectator Rating|Summary|\n",
      "+-----+-------+-----+------+------------+----------------+-------+\n",
      "|    0|      1|    0|     7|           5|               0|      3|\n",
      "+-----+-------+-----+------+------------+----------------+-------+\n"
     ]
    }
   ],
   "source": [
    "missing_values = df.select([count(when(col(c).isNull() | isnan(c), c)).alias(c) for c in df.columns])\n",
    "missing_values.show()"
   ],
   "metadata": {
    "collapsed": false,
    "ExecuteTime": {
     "end_time": "2024-05-19T11:22:14.791632Z",
     "start_time": "2024-05-19T11:22:14.080189Z"
    }
   },
   "id": "6d681e6ad9e4335b"
  },
  {
   "cell_type": "markdown",
   "source": [
    "#### Runtime column"
   ],
   "metadata": {
    "collapsed": false
   },
   "id": "dcbcc695991f4728"
  },
  {
   "cell_type": "code",
   "execution_count": 87,
   "outputs": [],
   "source": [
    "df = df.dropna(subset=[\"Runtime\"])"
   ],
   "metadata": {
    "collapsed": false,
    "ExecuteTime": {
     "end_time": "2024-05-19T11:22:14.792904Z",
     "start_time": "2024-05-19T11:22:14.590694Z"
    }
   },
   "id": "73bec8832f462ba"
  },
  {
   "cell_type": "code",
   "execution_count": 88,
   "outputs": [],
   "source": [
    "def convert_runtime_to_interval(runtime):\n",
    "    hours, minutes = map(int, runtime.replace('min', '').replace('h', '').split())\n",
    "    total_hours = hours + minutes / 60\n",
    "    if total_hours > 2:\n",
    "        return '> 2 hrs'\n",
    "    elif total_hours < 0.5:\n",
    "        return '< 30 minutes'\n",
    "    elif total_hours < 1 and total_hours >= 0.5 :\n",
    "        return '30 - 60 mins'\n",
    "    else:\n",
    "        return '1-2 hour'\n",
    "    "
   ],
   "metadata": {
    "collapsed": false,
    "ExecuteTime": {
     "end_time": "2024-05-19T11:22:14.793293Z",
     "start_time": "2024-05-19T11:22:14.610404Z"
    }
   },
   "id": "7db8c00db5187eb"
  },
  {
   "cell_type": "code",
   "execution_count": 89,
   "outputs": [],
   "source": [
    "convert_runtime_udf = udf(convert_runtime_to_interval, StringType())"
   ],
   "metadata": {
    "collapsed": false,
    "ExecuteTime": {
     "end_time": "2024-05-19T11:22:14.793498Z",
     "start_time": "2024-05-19T11:22:14.617414Z"
    }
   },
   "id": "a9252085a934b312"
  },
  {
   "cell_type": "code",
   "execution_count": 90,
   "outputs": [],
   "source": [
    "df = df.withColumn(\"Runtime\", convert_runtime_udf(df[\"Runtime\"]))"
   ],
   "metadata": {
    "collapsed": false,
    "ExecuteTime": {
     "end_time": "2024-05-19T11:22:14.794219Z",
     "start_time": "2024-05-19T11:22:14.646063Z"
    }
   },
   "id": "cf655b16ffa5bec0"
  },
  {
   "cell_type": "code",
   "execution_count": 91,
   "outputs": [
    {
     "name": "stdout",
     "output_type": "stream",
     "text": [
      "+--------------------+--------+------+--------------------+------------+----------------+--------------------+\n",
      "|               Title| Runtime| Genre|              Actors|Press Rating|Spectator Rating|             Summary|\n",
      "+--------------------+--------+------+--------------------+------------+----------------+--------------------+\n",
      "|The Dark Knight, ...| > 2 hrs|Action|Christian Bale, P...|         4,0|             4,5|Batman entreprend...|\n",
      "|           Gladiator| > 2 hrs|Action|Russell Crowe, Jo...|         4,3|             4,5|Le général romain...|\n",
      "|Spider-Man : Acro...| > 2 hrs|Action|Stéphane Bak, Sha...|         4,1|             4,4|Après avoir retro...|\n",
      "|Spider-Man : New ...|1-2 hour|Action|        Jake Johnson|         4,2|             4,4|SPIDER-MAN : NEW ...|\n",
      "|Indiana Jones et ...| > 2 hrs|Action|Harrison Ford, Se...|         4,4|             4,4|L'archéologue ave...|\n",
      "|              Matrix| > 2 hrs|Action|Keanu Reeves, Lau...|         3,4|             4,4|Programmeur anony...|\n",
      "|              Ip Man|1-2 hour|Action|Donnie Yen, Simon...|         4,4|              --|Film biographique...|\n",
      "|Les Aventuriers d...|1-2 hour|Action|Karen Allen, Paul...|         4,6|             4,4|1936. L'aventurie...|\n",
      "|   Top Gun: Maverick| > 2 hrs|Action|Tom Cruise, Miles...|         3,7|             4,3|\"Après avoir été ...|\n",
      "|                Léon|1-2 hour|Action|Jean Reno, Gary O...|         2,0|             4,3|\"Un tueur à gages...|\n",
      "|Avengers: Infinit...| > 2 hrs|Action|Robert Downey Jr....|         3,4|             4,3|Les Avengers et l...|\n",
      "|The Dark Knight R...| > 2 hrs|Action|Christian Bale, G...|         3,6|             4,3|Il y a huit ans, ...|\n",
      "|                Heat| > 2 hrs|Action|Al Pacino, Robert...|         3,2|             4,3|À travers l'affro...|\n",
      "|             Warrior| > 2 hrs|Action|Joel Edgerton, Je...|         3,6|             4,3|Pour remporter un...|\n",
      "|Batman: The Dark ...|1-2 hour|Action|Peter Weller, Ari...|         4,3|              --|Batman, s'activan...|\n",
      "|   L'Enfer est à lui|1-2 hour|Action|James Cagney, Vir...|         4,3|              --|Cody Jarrett et s...|\n",
      "|  Memories of Murder| > 2 hrs|Action|Song Kang-Ho, Kim...|         4,4|             4,3|En 1986, dans la ...|\n",
      "|Inglourious Basterds| > 2 hrs|Action|Brad Pitt, Mélani...|         3,7|             4,3|Dans la France oc...|\n",
      "|Batman contre le ...|1-2 hour|Action|Kevin Conroy, Dan...|         4,3|              --|Un parrain de la ...|\n",
      "|Terminator 2 : le...| > 2 hrs|Action|Arnold Schwarzene...|         3,8|             4,3|Dans cette suite,...|\n",
      "+--------------------+--------+------+--------------------+------------+----------------+--------------------+\n"
     ]
    }
   ],
   "source": [
    "df.show()"
   ],
   "metadata": {
    "collapsed": false,
    "ExecuteTime": {
     "end_time": "2024-05-19T11:22:15.419054Z",
     "start_time": "2024-05-19T11:22:14.706670Z"
    }
   },
   "id": "b37da913dc2ab667"
  },
  {
   "cell_type": "markdown",
   "source": [
    "#### Rating column\n",
    "\n",
    "We're gonna merge the spectator rating and the press rating into one column called rating"
   ],
   "metadata": {
    "collapsed": false
   },
   "id": "6f1ac5415a5d4aa4"
  },
  {
   "cell_type": "code",
   "execution_count": 92,
   "outputs": [],
   "source": [
    "from pyspark.sql.functions import regexp_replace\n",
    "\n",
    "df = df.withColumn(\"Press Rating\", regexp_replace(col(\"Press Rating\"), \",\", \".\"))\n",
    "df = df.withColumn(\"Press Rating\", when(col(\"Press Rating\") == \"--\", None).otherwise(col(\"Press Rating\")))\n",
    "df = df.withColumn(\"Press Rating\", col(\"Press Rating\").cast(FloatType()))\n",
    "\n",
    "df = df.withColumn(\"Spectator Rating\", regexp_replace(col(\"Spectator Rating\"), \",\", \".\"))\n",
    "df = df.withColumn(\"Spectator Rating\", when(col(\"Spectator Rating\") == \"--\", None).otherwise(col(\"Spectator Rating\")))\n",
    "df = df.withColumn(\"Spectator Rating\", col(\"Spectator Rating\").cast(FloatType()))"
   ],
   "metadata": {
    "collapsed": false,
    "ExecuteTime": {
     "end_time": "2024-05-19T11:22:15.419406Z",
     "start_time": "2024-05-19T11:22:15.126027Z"
    }
   },
   "id": "b27a9c8c98f77f9c"
  },
  {
   "cell_type": "code",
   "execution_count": 99,
   "outputs": [],
   "source": [
    "from pyspark.sql.functions import mean\n",
    "\n",
    "mean_press = df.select(mean(col(\"Press Rating\")).alias(\"mean_press\")).collect()[0][\"mean_press\"]\n",
    "df = df.na.fill({\"Press Rating\": mean_press})\n",
    "\n",
    "mean_spectator = df.select(mean(col(\"Spectator Rating\")).alias(\"mean_spectator\")).collect()[0][\"mean_spectator\"]\n",
    "df = df.na.fill({\"Spectator Rating\": mean_spectator})"
   ],
   "metadata": {
    "collapsed": false,
    "ExecuteTime": {
     "end_time": "2024-05-19T11:24:58.286385Z",
     "start_time": "2024-05-19T11:24:57.945896Z"
    }
   },
   "id": "2380786ebb5e6d01"
  },
  {
   "cell_type": "code",
   "execution_count": 103,
   "outputs": [],
   "source": [
    "df = df.withColumn(\"Rating\", spark_round((col(\"Press Rating\") + col(\"Spectator Rating\")) / 2, 1))\n",
    "df = df.drop(\"Press Rating\", \"Spectator Rating\")"
   ],
   "metadata": {
    "collapsed": false,
    "ExecuteTime": {
     "end_time": "2024-05-19T11:26:01.664598Z",
     "start_time": "2024-05-19T11:26:01.633722Z"
    }
   },
   "id": "3bb37ff74b42c2de"
  },
  {
   "cell_type": "code",
   "execution_count": 104,
   "outputs": [
    {
     "name": "stdout",
     "output_type": "stream",
     "text": [
      "+--------------------+--------+------+--------------------+--------------------+------+\n",
      "|               Title| Runtime| Genre|              Actors|             Summary|Rating|\n",
      "+--------------------+--------+------+--------------------+--------------------+------+\n",
      "|The Dark Knight, ...| > 2 hrs|Action|Christian Bale, P...|Batman entreprend...|   4.3|\n",
      "|           Gladiator| > 2 hrs|Action|Russell Crowe, Jo...|Le général romain...|   4.4|\n",
      "|Spider-Man : Acro...| > 2 hrs|Action|Stéphane Bak, Sha...|Après avoir retro...|   4.3|\n",
      "|Spider-Man : New ...|1-2 hour|Action|        Jake Johnson|SPIDER-MAN : NEW ...|   4.3|\n",
      "|Indiana Jones et ...| > 2 hrs|Action|Harrison Ford, Se...|L'archéologue ave...|   4.4|\n",
      "|              Matrix| > 2 hrs|Action|Keanu Reeves, Lau...|Programmeur anony...|   3.9|\n",
      "|              Ip Man|1-2 hour|Action|Donnie Yen, Simon...|Film biographique...|   4.2|\n",
      "|Les Aventuriers d...|1-2 hour|Action|Karen Allen, Paul...|1936. L'aventurie...|   4.5|\n",
      "|   Top Gun: Maverick| > 2 hrs|Action|Tom Cruise, Miles...|\"Après avoir été ...|   4.0|\n",
      "|                Léon|1-2 hour|Action|Jean Reno, Gary O...|\"Un tueur à gages...|   3.2|\n",
      "|Avengers: Infinit...| > 2 hrs|Action|Robert Downey Jr....|Les Avengers et l...|   3.9|\n",
      "|The Dark Knight R...| > 2 hrs|Action|Christian Bale, G...|Il y a huit ans, ...|   4.0|\n",
      "|                Heat| > 2 hrs|Action|Al Pacino, Robert...|À travers l'affro...|   3.8|\n",
      "|             Warrior| > 2 hrs|Action|Joel Edgerton, Je...|Pour remporter un...|   4.0|\n",
      "|Batman: The Dark ...|1-2 hour|Action|Peter Weller, Ari...|Batman, s'activan...|   4.2|\n",
      "|   L'Enfer est à lui|1-2 hour|Action|James Cagney, Vir...|Cody Jarrett et s...|   4.2|\n",
      "|  Memories of Murder| > 2 hrs|Action|Song Kang-Ho, Kim...|En 1986, dans la ...|   4.4|\n",
      "|Inglourious Basterds| > 2 hrs|Action|Brad Pitt, Mélani...|Dans la France oc...|   4.0|\n",
      "|Batman contre le ...|1-2 hour|Action|Kevin Conroy, Dan...|Un parrain de la ...|   4.2|\n",
      "|Terminator 2 : le...| > 2 hrs|Action|Arnold Schwarzene...|Dans cette suite,...|   4.1|\n",
      "+--------------------+--------+------+--------------------+--------------------+------+\n"
     ]
    }
   ],
   "source": [
    "df.show()"
   ],
   "metadata": {
    "collapsed": false,
    "ExecuteTime": {
     "end_time": "2024-05-19T11:26:02.966854Z",
     "start_time": "2024-05-19T11:26:02.813528Z"
    }
   },
   "id": "30f01a6225f14d03"
  },
  {
   "cell_type": "markdown",
   "source": [
    "#### Transform the genre column. We will create one col for each genre and fill it with 1 if the movie belongs to this genre, 0 otherwise"
   ],
   "metadata": {
    "collapsed": false
   },
   "id": "7f91201c165a1e58"
  },
  {
   "cell_type": "code",
   "execution_count": 112,
   "outputs": [],
   "source": [
    "from pyspark.sql.functions import split\n",
    "\n",
    "df = df.withColumn(\"Genre\", split(col(\"Genre\"), \", \"))\n",
    "genres = [\"Action\", \"Adventure\", \"Drama\", \"Sci-Fi\", \"Crime\", \"Thriller\", \"Comedy\", \"Biography\", \"Documentary\"]"
   ],
   "metadata": {
    "collapsed": false,
    "ExecuteTime": {
     "end_time": "2024-05-19T11:38:13.269425Z",
     "start_time": "2024-05-19T11:38:13.244118Z"
    }
   },
   "id": "eaa40c274d2f20d2"
  },
  {
   "cell_type": "code",
   "execution_count": 115,
   "outputs": [],
   "source": [
    "from pyspark.sql.functions import array_contains\n",
    "\n",
    "for genre in genres:\n",
    "    df = df.withColumn(genre, array_contains(col(\"Genre\"), genre).cast(\"integer\"))"
   ],
   "metadata": {
    "collapsed": false,
    "ExecuteTime": {
     "end_time": "2024-05-19T11:38:41.899826Z",
     "start_time": "2024-05-19T11:38:41.821631Z"
    }
   },
   "id": "c7737e423bee024"
  },
  {
   "cell_type": "code",
   "execution_count": 116,
   "outputs": [
    {
     "name": "stdout",
     "output_type": "stream",
     "text": [
      "+--------------------+--------+--------+---------------+------------------+--------------------+------------+----------------+--------------------+------+---------+-----+------+-----+--------+------+---------+-----------+\n",
      "|               Title|Duration|   Genre|   Release Date|          Director|              Actors|Press Rating|Spectator Rating|            Synopsis|Action|Adventure|Drama|Sci-Fi|Crime|Thriller|Comedy|Biography|Documentary|\n",
      "+--------------------+--------+--------+---------------+------------------+--------------------+------------+----------------+--------------------+------+---------+-----+------+-----+--------+------+---------+-----------+\n",
      "|The Dark Knight, ...|2h 32min|[Action]|            N/A| Christopher Nolan|Christian Bale, P...|         4,0|             4,5|Batman entreprend...|     1|        0|    0|     0|    0|       0|     0|        0|          0|\n",
      "|           Gladiator|2h 35min|[Action]|            N/A|      Ridley Scott|Russell Crowe, Jo...|         4,3|             4,5|Le général romain...|     1|        0|    0|     0|    0|       0|     0|        0|          0|\n",
      "|Spider-Man : Acro...|2h 21min|[Action]|            N/A|Joaquim Dos Santos|Stéphane Bak, Sha...|         4,1|             4,4|Après avoir retro...|     1|        0|    0|     0|    0|       0|     0|        0|          0|\n",
      "|Spider-Man : New ...|1h 57min|[Action]|            N/A|   Bob Persichetti|        Jake Johnson|         4,2|             4,4|SPIDER-MAN : NEW ...|     1|        0|    0|     0|    0|       0|     0|        0|          0|\n",
      "|Indiana Jones et ...|2h 07min|[Action]|            N/A|  Steven Spielberg|Harrison Ford, Se...|         4,4|             4,4|L'archéologue ave...|     1|        0|    0|     0|    0|       0|     0|        0|          0|\n",
      "|              Matrix|2h 15min|[Action]|            N/A|    Lana Wachowski|Keanu Reeves, Lau...|         3,4|             4,4|Programmeur anony...|     1|        0|    0|     0|    0|       0|     0|        0|          0|\n",
      "|              Ip Man|1h 45min|[Action]|            N/A|        Wilson Yip|Donnie Yen, Simon...|         4,4|              --|Film biographique...|     1|        0|    0|     0|    0|       0|     0|        0|          0|\n",
      "|Les Aventuriers d...|1h 56min|[Action]|            N/A|  Steven Spielberg|Karen Allen, Paul...|         4,6|             4,4|1936. L'aventurie...|     1|        0|    0|     0|    0|       0|     0|        0|          0|\n",
      "|   Top Gun: Maverick|2h 11min|[Action]|            N/A|   Joseph Kosinski|Tom Cruise, Miles...|         3,7|             4,3|\"Après avoir été ...|     1|        0|    0|     0|    0|       0|     0|        0|          0|\n",
      "|                Léon|1h 43min|[Action]|   26 juin 1996|        Luc Besson|Jean Reno, Gary O...|         2,0|             4,3|\"Un tueur à gages...|     1|        0|    0|     0|    0|       0|     0|        0|          0|\n",
      "|Avengers: Infinit...|2h 36min|[Action]|            N/A|         Joe Russo|Robert Downey Jr....|         3,4|             4,3|Les Avengers et l...|     1|        0|    0|     0|    0|       0|     0|        0|          0|\n",
      "|The Dark Knight R...|2h 44min|[Action]|            N/A| Christopher Nolan|Christian Bale, G...|         3,6|             4,3|Il y a huit ans, ...|     1|        0|    0|     0|    0|       0|     0|        0|          0|\n",
      "|   Baby Cart la saga|    NULL|[Action]|            N/A|      Kenji Misumi| Tomisaburo Wakayama|         4,5|             4,3|L'intégrale de la...|     1|        0|    0|     0|    0|       0|     0|        0|          0|\n",
      "|                Heat|2h 50min|[Action]|   21 mars 2018|      Michael Mann|Al Pacino, Robert...|         3,2|             4,3|À travers l'affro...|     1|        0|    0|     0|    0|       0|     0|        0|          0|\n",
      "|             Warrior|2h 20min|[Action]|            N/A|    Gavin O'Connor|Joel Edgerton, Je...|         3,6|             4,3|Pour remporter un...|     1|        0|    0|     0|    0|       0|     0|        0|          0|\n",
      "|Batman: The Dark ...|1h 16min|[Action]|            N/A|         Jay Oliva|Peter Weller, Ari...|         4,3|              --|Batman, s'activan...|     1|        0|    0|     0|    0|       0|     0|        0|          0|\n",
      "|   L'Enfer est à lui|1h 54min|[Action]|22 octobre 2003|       Raoul Walsh|James Cagney, Vir...|         4,3|              --|Cody Jarrett et s...|     1|        0|    0|     0|    0|       0|     0|        0|          0|\n",
      "|  Memories of Murder|2h 10min|[Action]| 5 juillet 2017|      Bong Joon Ho|Song Kang-Ho, Kim...|         4,4|             4,3|En 1986, dans la ...|     1|        0|    0|     0|    0|       0|     0|        0|          0|\n",
      "|Inglourious Basterds|2h 33min|[Action]|            N/A| Quentin Tarantino|Brad Pitt, Mélani...|         3,7|             4,3|Dans la France oc...|     1|        0|    0|     0|    0|       0|     0|        0|          0|\n",
      "|Batman contre le ...|1h 16min|[Action]|            N/A|     Eric Radomski|Kevin Conroy, Dan...|         4,3|              --|Un parrain de la ...|     1|        0|    0|     0|    0|       0|     0|        0|          0|\n",
      "+--------------------+--------+--------+---------------+------------------+--------------------+------------+----------------+--------------------+------+---------+-----+------+-----+--------+------+---------+-----------+\n"
     ]
    }
   ],
   "source": [
    "df.show()"
   ],
   "metadata": {
    "collapsed": false,
    "ExecuteTime": {
     "end_time": "2024-05-19T11:38:49.501265Z",
     "start_time": "2024-05-19T11:38:48.958238Z"
    }
   },
   "id": "1192aabb556f4563"
  },
  {
   "cell_type": "code",
   "execution_count": 117,
   "outputs": [
    {
     "name": "stdout",
     "output_type": "stream",
     "text": [
      "+--------------------+-----+\n",
      "|               Genre|count|\n",
      "+--------------------+-----+\n",
      "|           [Romance]|  200|\n",
      "|          [Thriller]|  200|\n",
      "|           [Famille]|  200|\n",
      "|        [Historique]|  200|\n",
      "|           [Comédie]|  200|\n",
      "|       [Fantastique]|  200|\n",
      "|[Comédie dramatique]|  200|\n",
      "|          [Policier]|  200|\n",
      "|         [Animation]|  200|\n",
      "|            [Biopic]|  200|\n",
      "|   [Science Fiction]|  200|\n",
      "|             [Drame]|  200|\n",
      "|            [Action]|  200|\n",
      "|           [Musical]|  199|\n",
      "| [Epouvante-horreur]|  195|\n",
      "|           [Western]|  193|\n",
      "|            [Guerre]|  192|\n",
      "+--------------------+-----+\n"
     ]
    }
   ],
   "source": [
    "df.groupBy(\"Genre\").count().orderBy(col(\"count\").desc()).show()"
   ],
   "metadata": {
    "collapsed": false,
    "ExecuteTime": {
     "end_time": "2024-05-19T12:49:57.445325Z",
     "start_time": "2024-05-19T12:49:56.743868Z"
    }
   },
   "id": "1f4d8d4885b04c67"
  },
  {
   "cell_type": "code",
   "execution_count": 125,
   "outputs": [],
   "source": [],
   "metadata": {
    "collapsed": false,
    "ExecuteTime": {
     "end_time": "2024-05-19T13:06:01.993232Z",
     "start_time": "2024-05-19T13:06:01.929305Z"
    }
   },
   "id": "2e41ecf4d28d8001"
  },
  {
   "cell_type": "code",
   "execution_count": 126,
   "outputs": [
    {
     "name": "stdout",
     "output_type": "stream",
     "text": [
      "+-----------+-----+\n",
      "|      Genre|count|\n",
      "+-----------+-----+\n",
      "|      Crime|  200|\n",
      "|    Romance|  200|\n",
      "|   Thriller|  200|\n",
      "|    Famille|  200|\n",
      "|      Drama|  200|\n",
      "|Documentary|  200|\n",
      "|    Comédie|  200|\n",
      "|Fantastique|  200|\n",
      "|  Animation|  200|\n",
      "|     Biopic|  200|\n",
      "|     Comedy|  200|\n",
      "|     Action|  200|\n",
      "|     Sci-Fi|  200|\n",
      "|    Musical|  199|\n",
      "|     Horror|  195|\n",
      "|    Western|  193|\n",
      "|     Guerre|  192|\n",
      "+-----------+-----+\n"
     ]
    }
   ],
   "source": [],
   "metadata": {
    "collapsed": false,
    "ExecuteTime": {
     "end_time": "2024-05-19T13:06:02.636275Z",
     "start_time": "2024-05-19T13:06:02.107753Z"
    }
   },
   "id": "9575a3e015a734bf"
  },
  {
   "cell_type": "code",
   "execution_count": null,
   "outputs": [],
   "source": [],
   "metadata": {
    "collapsed": false
   },
   "id": "6eaab61dbfdcd34e"
  }
 ],
 "metadata": {
  "kernelspec": {
   "display_name": "Python 3",
   "language": "python",
   "name": "python3"
  },
  "language_info": {
   "codemirror_mode": {
    "name": "ipython",
    "version": 2
   },
   "file_extension": ".py",
   "mimetype": "text/x-python",
   "name": "python",
   "nbconvert_exporter": "python",
   "pygments_lexer": "ipython2",
   "version": "2.7.6"
  }
 },
 "nbformat": 4,
 "nbformat_minor": 5
}
