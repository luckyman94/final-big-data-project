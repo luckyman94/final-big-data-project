{
 "cells": [
  {
   "cell_type": "code",
   "execution_count": 18,
   "id": "initial_id",
   "metadata": {
    "collapsed": true,
    "ExecuteTime": {
     "end_time": "2024-05-18T18:27:40.545373Z",
     "start_time": "2024-05-18T18:27:40.526992Z"
    }
   },
   "outputs": [],
   "source": [
    "from pyspark.sql import SparkSession\n",
    "from pyspark.sql.functions import col, lit, when, isnan, count, udf\n",
    "from pyspark.sql.types import StringType\n",
    "\n",
    "from src.utils.s3_manager import S3Manager\n",
    "import seaborn as sns\n",
    "import matplotlib.pyplot as plt\n",
    "from wordcloud import WordCloud\n",
    "import os \n",
    "import nltk\n"
   ]
  },
  {
   "cell_type": "code",
   "execution_count": 2,
   "outputs": [],
   "source": [
    "data_dir = \"/Users/ilan/big-data-airflow-project/data\""
   ],
   "metadata": {
    "collapsed": false,
    "ExecuteTime": {
     "end_time": "2024-05-18T18:16:26.397115Z",
     "start_time": "2024-05-18T18:16:26.383158Z"
    }
   },
   "id": "3026c544229bc24"
  },
  {
   "cell_type": "code",
   "execution_count": 3,
   "outputs": [
    {
     "name": "stderr",
     "output_type": "stream",
     "text": [
      "24/05/18 20:16:31 WARN Utils: Your hostname, Ordinateur-portable-de-Ilan.local resolves to a loopback address: 127.0.0.1; using 192.168.1.18 instead (on interface en0)\n",
      "24/05/18 20:16:31 WARN Utils: Set SPARK_LOCAL_IP if you need to bind to another address\n",
      "Setting default log level to \"WARN\".\n",
      "To adjust logging level use sc.setLogLevel(newLevel). For SparkR, use setLogLevel(newLevel).\n",
      "24/05/18 20:16:32 WARN NativeCodeLoader: Unable to load native-hadoop library for your platform... using builtin-java classes where applicable\n",
      "24/05/18 20:16:33 WARN Utils: Service 'SparkUI' could not bind on port 4040. Attempting port 4041.\n"
     ]
    }
   ],
   "source": [
    "spark = SparkSession.builder \\\n",
    "    .appName(\"EDA with Spark\") \\\n",
    "    .getOrCreate()"
   ],
   "metadata": {
    "collapsed": false,
    "ExecuteTime": {
     "end_time": "2024-05-18T18:16:34.009210Z",
     "start_time": "2024-05-18T18:16:28.193233Z"
    }
   },
   "id": "8ba8718f5623d0f6"
  },
  {
   "cell_type": "code",
   "execution_count": 4,
   "outputs": [
    {
     "name": "stderr",
     "output_type": "stream",
     "text": [
      "                                                                                \r"
     ]
    }
   ],
   "source": [
    "df = spark.read.parquet(data_dir+\"/allocine_movies.parquet\", header=True, inferSchema=True)"
   ],
   "metadata": {
    "collapsed": false,
    "ExecuteTime": {
     "end_time": "2024-05-18T18:16:42.199280Z",
     "start_time": "2024-05-18T18:16:37.529754Z"
    }
   },
   "id": "907777847cac46be"
  },
  {
   "cell_type": "code",
   "execution_count": 6,
   "outputs": [
    {
     "name": "stdout",
     "output_type": "stream",
     "text": [
      "root\n",
      " |-- Title: string (nullable = true)\n",
      " |-- Duration: string (nullable = true)\n",
      " |-- Genre: string (nullable = true)\n",
      " |-- Release Date: string (nullable = true)\n",
      " |-- Director: string (nullable = true)\n",
      " |-- Actors: string (nullable = true)\n",
      " |-- Press Rating: string (nullable = true)\n",
      " |-- Spectator Rating: string (nullable = true)\n",
      " |-- Synopsis: string (nullable = true)\n"
     ]
    }
   ],
   "source": [
    "df.printSchema()"
   ],
   "metadata": {
    "collapsed": false,
    "ExecuteTime": {
     "end_time": "2024-05-18T18:16:55.271236Z",
     "start_time": "2024-05-18T18:16:55.245461Z"
    }
   },
   "id": "b437f5d395b49338"
  },
  {
   "cell_type": "code",
   "execution_count": 5,
   "outputs": [
    {
     "name": "stderr",
     "output_type": "stream",
     "text": [
      "                                                                                \r"
     ]
    },
    {
     "name": "stdout",
     "output_type": "stream",
     "text": [
      "+--------------------+--------+------+---------------+------------------+--------------------+------------+----------------+--------------------+\n",
      "|               Title|Duration| Genre|   Release Date|          Director|              Actors|Press Rating|Spectator Rating|            Synopsis|\n",
      "+--------------------+--------+------+---------------+------------------+--------------------+------------+----------------+--------------------+\n",
      "|The Dark Knight, ...|2h 32min|Action|            N/A| Christopher Nolan|Christian Bale, P...|         4,0|             4,5|Batman entreprend...|\n",
      "|           Gladiator|2h 35min|Action|            N/A|      Ridley Scott|Russell Crowe, Jo...|         4,3|             4,5|Le général romain...|\n",
      "|Spider-Man : Acro...|2h 21min|Action|            N/A|Joaquim Dos Santos|Stéphane Bak, Sha...|         4,1|             4,4|Après avoir retro...|\n",
      "|Spider-Man : New ...|1h 57min|Action|            N/A|   Bob Persichetti|        Jake Johnson|         4,2|             4,4|SPIDER-MAN : NEW ...|\n",
      "|Indiana Jones et ...|2h 07min|Action|            N/A|  Steven Spielberg|Harrison Ford, Se...|         4,4|             4,4|L'archéologue ave...|\n",
      "|              Matrix|2h 15min|Action|            N/A|    Lana Wachowski|Keanu Reeves, Lau...|         3,4|             4,4|Programmeur anony...|\n",
      "|              Ip Man|1h 45min|Action|            N/A|        Wilson Yip|Donnie Yen, Simon...|         4,4|              --|Film biographique...|\n",
      "|Les Aventuriers d...|1h 56min|Action|            N/A|  Steven Spielberg|Karen Allen, Paul...|         4,6|             4,4|1936. L'aventurie...|\n",
      "|   Top Gun: Maverick|2h 11min|Action|            N/A|   Joseph Kosinski|Tom Cruise, Miles...|         3,7|             4,3|\"Après avoir été ...|\n",
      "|                Léon|1h 43min|Action|   26 juin 1996|        Luc Besson|Jean Reno, Gary O...|         2,0|             4,3|\"Un tueur à gages...|\n",
      "|Avengers: Infinit...|2h 36min|Action|            N/A|         Joe Russo|Robert Downey Jr....|         3,4|             4,3|Les Avengers et l...|\n",
      "|The Dark Knight R...|2h 44min|Action|            N/A| Christopher Nolan|Christian Bale, G...|         3,6|             4,3|Il y a huit ans, ...|\n",
      "|   Baby Cart la saga|    NULL|Action|            N/A|      Kenji Misumi| Tomisaburo Wakayama|         4,5|             4,3|L'intégrale de la...|\n",
      "|                Heat|2h 50min|Action|   21 mars 2018|      Michael Mann|Al Pacino, Robert...|         3,2|             4,3|À travers l'affro...|\n",
      "|             Warrior|2h 20min|Action|            N/A|    Gavin O'Connor|Joel Edgerton, Je...|         3,6|             4,3|Pour remporter un...|\n",
      "|Batman: The Dark ...|1h 16min|Action|            N/A|         Jay Oliva|Peter Weller, Ari...|         4,3|              --|Batman, s'activan...|\n",
      "|   L'Enfer est à lui|1h 54min|Action|22 octobre 2003|       Raoul Walsh|James Cagney, Vir...|         4,3|              --|Cody Jarrett et s...|\n",
      "|  Memories of Murder|2h 10min|Action| 5 juillet 2017|      Bong Joon Ho|Song Kang-Ho, Kim...|         4,4|             4,3|En 1986, dans la ...|\n",
      "|Inglourious Basterds|2h 33min|Action|            N/A| Quentin Tarantino|Brad Pitt, Mélani...|         3,7|             4,3|Dans la France oc...|\n",
      "|Batman contre le ...|1h 16min|Action|            N/A|     Eric Radomski|Kevin Conroy, Dan...|         4,3|              --|Un parrain de la ...|\n",
      "+--------------------+--------+------+---------------+------------------+--------------------+------------+----------------+--------------------+\n"
     ]
    }
   ],
   "source": [
    "df.show()"
   ],
   "metadata": {
    "collapsed": false,
    "ExecuteTime": {
     "end_time": "2024-05-18T18:16:47.377953Z",
     "start_time": "2024-05-18T18:16:43.448405Z"
    }
   },
   "id": "fb85b0e29186c4e1"
  },
  {
   "cell_type": "code",
   "execution_count": 6,
   "outputs": [
    {
     "name": "stdout",
     "output_type": "stream",
     "text": [
      "The shape of the allocine dataset is  (3379, 9)\n"
     ]
    }
   ],
   "source": [
    "print(\"The shape of the allocine dataset is \", (df.count(), len(df.columns)))"
   ],
   "metadata": {
    "collapsed": false,
    "ExecuteTime": {
     "end_time": "2024-05-17T16:46:10.340022Z",
     "start_time": "2024-05-17T16:46:09.110997Z"
    }
   },
   "id": "d58f5b54febd4655"
  },
  {
   "cell_type": "code",
   "execution_count": 7,
   "outputs": [
    {
     "name": "stderr",
     "output_type": "stream",
     "text": [
      "24/05/17 18:46:10 WARN SparkStringUtils: Truncated the string representation of a plan since it was too large. This behavior can be adjusted by setting 'spark.sql.debug.maxToStringFields'.\n",
      "[Stage 5:>                                                          (0 + 1) / 1]\r"
     ]
    },
    {
     "name": "stdout",
     "output_type": "stream",
     "text": [
      "+-------+--------------------+--------+-------+------------+--------------+--------------------+------------+----------------+--------------------+\n",
      "|summary|               Title|Duration|  Genre|Release Date|      Director|              Actors|Press Rating|Spectator Rating|            Synopsis|\n",
      "+-------+--------------------+--------+-------+------------+--------------+--------------------+------------+----------------+--------------------+\n",
      "|  count|                3379|    3378|   3379|        3379|          3376|                3372|        3374|            3379|                3376|\n",
      "|   mean|               796.0|    NULL|   NULL|        NULL|          NULL|                NULL|        NULL|            NULL|                NULL|\n",
      "| stddev|   874.0533164515766|    NULL|   NULL|        NULL|          NULL|                NULL|        NULL|            NULL|                NULL|\n",
      "|    min|                 '71|0h 06min| Action| 1 août 2001|  Costa-Gavras| Anémone, Josiane...|         1,3|              --|\"\"\"Aviator\"\" couv...|\n",
      "|    max|Élémentaire, mon ...|7h 30min|Western|         N/A|Élie Chouraqui|                  []|         5,0|             N/A|Évocation du règn...|\n",
      "+-------+--------------------+--------+-------+------------+--------------+--------------------+------------+----------------+--------------------+\n"
     ]
    },
    {
     "name": "stderr",
     "output_type": "stream",
     "text": [
      "                                                                                \r"
     ]
    }
   ],
   "source": [
    "df.describe().show()"
   ],
   "metadata": {
    "collapsed": false,
    "ExecuteTime": {
     "end_time": "2024-05-17T16:46:12.742975Z",
     "start_time": "2024-05-17T16:46:10.335849Z"
    }
   },
   "id": "e3efb67496ecd007"
  },
  {
   "cell_type": "code",
   "execution_count": 32,
   "outputs": [],
   "source": [
    "df = df.drop(\"Release Date\", \"Director\")"
   ],
   "metadata": {
    "collapsed": false,
    "ExecuteTime": {
     "end_time": "2024-05-18T18:30:36.482376Z",
     "start_time": "2024-05-18T18:30:36.453690Z"
    }
   },
   "id": "55b7bfd30b2b0206"
  },
  {
   "cell_type": "markdown",
   "source": [
    "# Renaming columns to match the netflix dataset"
   ],
   "metadata": {
    "collapsed": false
   },
   "id": "a95feb29ab110336"
  },
  {
   "cell_type": "code",
   "execution_count": 7,
   "outputs": [],
   "source": [
    "df = df.withColumnRenamed(\"Duration\", \"Runtime\")\n",
    "df = df.withColumnRenamed(\"Synopsis\", \"Summary\")"
   ],
   "metadata": {
    "collapsed": false,
    "ExecuteTime": {
     "end_time": "2024-05-18T18:17:38.517764Z",
     "start_time": "2024-05-18T18:17:38.489468Z"
    }
   },
   "id": "438622126166538c"
  },
  {
   "cell_type": "markdown",
   "source": [
    "# Dealing with missing values"
   ],
   "metadata": {
    "collapsed": false
   },
   "id": "3457d757a51107c1"
  },
  {
   "cell_type": "code",
   "execution_count": 8,
   "outputs": [
    {
     "name": "stdout",
     "output_type": "stream",
     "text": [
      "+-----+-------+-----+------------+--------+------+------------+----------------+-------+\n",
      "|Title|Runtime|Genre|Release Date|Director|Actors|Press Rating|Spectator Rating|Summary|\n",
      "+-----+-------+-----+------------+--------+------+------------+----------------+-------+\n",
      "|    0|      1|    0|           0|       3|     7|           5|               0|      3|\n",
      "+-----+-------+-----+------------+--------+------+------------+----------------+-------+\n"
     ]
    }
   ],
   "source": [
    "missing_values = df.select([count(when(col(c).isNull() | isnan(c), c)).alias(c) for c in df.columns])\n",
    "missing_values.show()"
   ],
   "metadata": {
    "collapsed": false,
    "ExecuteTime": {
     "end_time": "2024-05-18T18:18:22.890694Z",
     "start_time": "2024-05-18T18:18:21.466749Z"
    }
   },
   "id": "6d681e6ad9e4335b"
  },
  {
   "cell_type": "markdown",
   "source": [
    "#### Runtime column"
   ],
   "metadata": {
    "collapsed": false
   },
   "id": "dcbcc695991f4728"
  },
  {
   "cell_type": "code",
   "execution_count": 23,
   "outputs": [],
   "source": [
    "df = df.dropna(subset=[\"Runtime\"])"
   ],
   "metadata": {
    "collapsed": false,
    "ExecuteTime": {
     "end_time": "2024-05-18T18:29:28.665133Z",
     "start_time": "2024-05-18T18:29:28.629901Z"
    }
   },
   "id": "73bec8832f462ba"
  },
  {
   "cell_type": "code",
   "execution_count": 24,
   "outputs": [],
   "source": [
    "def convert_runtime_to_interval(runtime):\n",
    "    hours, minutes = map(int, runtime.replace('min', '').replace('h', '').split())\n",
    "    total_hours = hours + minutes / 60\n",
    "    if total_hours > 2:\n",
    "        return '> 2 hrs'\n",
    "    elif total_hours < 0.5:\n",
    "        return '< 30 minutes'\n",
    "    elif total_hours < 1 and total_hours >= 0.5 :\n",
    "        return '30 - 60 mins'\n",
    "    else:\n",
    "        return '1-2 hour'\n",
    "    "
   ],
   "metadata": {
    "collapsed": false,
    "ExecuteTime": {
     "end_time": "2024-05-18T18:29:31.539388Z",
     "start_time": "2024-05-18T18:29:31.518340Z"
    }
   },
   "id": "7db8c00db5187eb"
  },
  {
   "cell_type": "code",
   "execution_count": 25,
   "outputs": [],
   "source": [
    "convert_runtime_udf = udf(convert_runtime_to_interval, StringType())"
   ],
   "metadata": {
    "collapsed": false,
    "ExecuteTime": {
     "end_time": "2024-05-18T18:29:32.132610Z",
     "start_time": "2024-05-18T18:29:32.085257Z"
    }
   },
   "id": "a9252085a934b312"
  },
  {
   "cell_type": "code",
   "execution_count": 28,
   "outputs": [],
   "source": [
    "df = df.withColumn(\"Runtime\", convert_runtime_udf(df[\"Runtime\"]))"
   ],
   "metadata": {
    "collapsed": false,
    "ExecuteTime": {
     "end_time": "2024-05-18T18:29:47.084663Z",
     "start_time": "2024-05-18T18:29:47.061872Z"
    }
   },
   "id": "cf655b16ffa5bec0"
  },
  {
   "cell_type": "code",
   "execution_count": 31,
   "outputs": [
    {
     "name": "stdout",
     "output_type": "stream",
     "text": [
      "+--------------------+--------+------+-----------------+------------------+--------------------+------------+----------------+--------------------+----------------+\n",
      "|               Title| Runtime| Genre|     Release Date|          Director|              Actors|Press Rating|Spectator Rating|             Summary|Runtime Category|\n",
      "+--------------------+--------+------+-----------------+------------------+--------------------+------------+----------------+--------------------+----------------+\n",
      "|The Dark Knight, ...| > 2 hrs|Action|              N/A| Christopher Nolan|Christian Bale, P...|         4,0|             4,5|Batman entreprend...|         > 2 hrs|\n",
      "|           Gladiator| > 2 hrs|Action|              N/A|      Ridley Scott|Russell Crowe, Jo...|         4,3|             4,5|Le général romain...|         > 2 hrs|\n",
      "|Spider-Man : Acro...| > 2 hrs|Action|              N/A|Joaquim Dos Santos|Stéphane Bak, Sha...|         4,1|             4,4|Après avoir retro...|         > 2 hrs|\n",
      "|Spider-Man : New ...|1-2 hour|Action|              N/A|   Bob Persichetti|        Jake Johnson|         4,2|             4,4|SPIDER-MAN : NEW ...|        1-2 hour|\n",
      "|Indiana Jones et ...| > 2 hrs|Action|              N/A|  Steven Spielberg|Harrison Ford, Se...|         4,4|             4,4|L'archéologue ave...|         > 2 hrs|\n",
      "|              Matrix| > 2 hrs|Action|              N/A|    Lana Wachowski|Keanu Reeves, Lau...|         3,4|             4,4|Programmeur anony...|         > 2 hrs|\n",
      "|              Ip Man|1-2 hour|Action|              N/A|        Wilson Yip|Donnie Yen, Simon...|         4,4|              --|Film biographique...|        1-2 hour|\n",
      "|Les Aventuriers d...|1-2 hour|Action|              N/A|  Steven Spielberg|Karen Allen, Paul...|         4,6|             4,4|1936. L'aventurie...|        1-2 hour|\n",
      "|   Top Gun: Maverick| > 2 hrs|Action|              N/A|   Joseph Kosinski|Tom Cruise, Miles...|         3,7|             4,3|\"Après avoir été ...|         > 2 hrs|\n",
      "|                Léon|1-2 hour|Action|     26 juin 1996|        Luc Besson|Jean Reno, Gary O...|         2,0|             4,3|\"Un tueur à gages...|        1-2 hour|\n",
      "|Avengers: Infinit...| > 2 hrs|Action|              N/A|         Joe Russo|Robert Downey Jr....|         3,4|             4,3|Les Avengers et l...|         > 2 hrs|\n",
      "|The Dark Knight R...| > 2 hrs|Action|              N/A| Christopher Nolan|Christian Bale, G...|         3,6|             4,3|Il y a huit ans, ...|         > 2 hrs|\n",
      "|                Heat| > 2 hrs|Action|     21 mars 2018|      Michael Mann|Al Pacino, Robert...|         3,2|             4,3|À travers l'affro...|         > 2 hrs|\n",
      "|             Warrior| > 2 hrs|Action|              N/A|    Gavin O'Connor|Joel Edgerton, Je...|         3,6|             4,3|Pour remporter un...|         > 2 hrs|\n",
      "|Batman: The Dark ...|1-2 hour|Action|              N/A|         Jay Oliva|Peter Weller, Ari...|         4,3|              --|Batman, s'activan...|        1-2 hour|\n",
      "|   L'Enfer est à lui|1-2 hour|Action|  22 octobre 2003|       Raoul Walsh|James Cagney, Vir...|         4,3|              --|Cody Jarrett et s...|        1-2 hour|\n",
      "|  Memories of Murder| > 2 hrs|Action|   5 juillet 2017|      Bong Joon Ho|Song Kang-Ho, Kim...|         4,4|             4,3|En 1986, dans la ...|         > 2 hrs|\n",
      "|Inglourious Basterds| > 2 hrs|Action|              N/A| Quentin Tarantino|Brad Pitt, Mélani...|         3,7|             4,3|Dans la France oc...|         > 2 hrs|\n",
      "|Batman contre le ...|1-2 hour|Action|              N/A|     Eric Radomski|Kevin Conroy, Dan...|         4,3|              --|Un parrain de la ...|        1-2 hour|\n",
      "|Terminator 2 : le...| > 2 hrs|Action|13 septembre 2017|     James Cameron|Arnold Schwarzene...|         3,8|             4,3|Dans cette suite,...|         > 2 hrs|\n",
      "+--------------------+--------+------+-----------------+------------------+--------------------+------------+----------------+--------------------+----------------+\n"
     ]
    }
   ],
   "source": [
    "df.show()"
   ],
   "metadata": {
    "collapsed": false,
    "ExecuteTime": {
     "end_time": "2024-05-18T18:30:24.586997Z",
     "start_time": "2024-05-18T18:30:24.358007Z"
    }
   },
   "id": "b37da913dc2ab667"
  },
  {
   "cell_type": "markdown",
   "source": [
    "#### Rating column\n",
    "\n",
    "We're gonna merge the spectator rating and the press rating into one column called rating"
   ],
   "metadata": {
    "collapsed": false
   },
   "id": "6f1ac5415a5d4aa4"
  },
  {
   "cell_type": "code",
   "execution_count": null,
   "outputs": [],
   "source": [
    "df"
   ],
   "metadata": {
    "collapsed": false
   },
   "id": "3bb37ff74b42c2de"
  }
 ],
 "metadata": {
  "kernelspec": {
   "display_name": "Python 3",
   "language": "python",
   "name": "python3"
  },
  "language_info": {
   "codemirror_mode": {
    "name": "ipython",
    "version": 2
   },
   "file_extension": ".py",
   "mimetype": "text/x-python",
   "name": "python",
   "nbconvert_exporter": "python",
   "pygments_lexer": "ipython2",
   "version": "2.7.6"
  }
 },
 "nbformat": 4,
 "nbformat_minor": 5
}
